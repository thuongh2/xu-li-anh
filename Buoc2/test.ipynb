{
 "cells": [
  {
   "cell_type": "code",
   "execution_count": 1,
   "metadata": {},
   "outputs": [],
   "source": [
    "import numpy as np\n",
    "import os.path\n",
    "import cv2\n",
    "import matplotlib.pyplot as plt\n",
    "import matplotlib.patches as patches\n",
    "import joblib"
   ]
  },
  {
   "cell_type": "code",
   "execution_count": 2,
   "metadata": {},
   "outputs": [],
   "source": [
    "directory = '../image'\n",
    "dirz = [x[0] for x in os.walk(directory)]"
   ]
  },
  {
   "cell_type": "code",
   "execution_count": 4,
   "metadata": {},
   "outputs": [
    {
     "data": {
      "text/plain": [
       "['../image\\\\BanBao',\n",
       " '../image\\\\BanDien',\n",
       " '../image\\\\BanHung',\n",
       " '../image\\\\BanLuc',\n",
       " '../image\\\\BanNam',\n",
       " '../image\\\\BanNinh',\n",
       " '../image\\\\BanPhuoc',\n",
       " '../image\\\\BanTai',\n",
       " '../image\\\\BanThanh',\n",
       " '../image\\\\ThayDuc']"
      ]
     },
     "execution_count": 4,
     "metadata": {},
     "output_type": "execute_result"
    }
   ],
   "source": [
    "subfolders = [ f.path for f in os.scandir(directory) if f.is_dir() ]\n",
    "\n",
    "subfolders"
   ]
  },
  {
   "cell_type": "code",
   "execution_count": 3,
   "metadata": {},
   "outputs": [
    {
     "data": {
      "text/plain": [
       "{'nam', 'name'}"
      ]
     },
     "execution_count": 3,
     "metadata": {},
     "output_type": "execute_result"
    }
   ],
   "source": [
    "a = set()\n",
    "\n",
    "a.add('name')\n",
    "\n",
    "a.add('nam')\n",
    "\n",
    "a.add('name')\n",
    "\n"
   ]
  },
  {
   "cell_type": "code",
   "execution_count": 10,
   "metadata": {},
   "outputs": [
    {
     "data": {
      "text/plain": [
       "'nam, name'"
      ]
     },
     "execution_count": 10,
     "metadata": {},
     "output_type": "execute_result"
    }
   ],
   "source": [
    "', '.join(a)"
   ]
  },
  {
   "cell_type": "code",
   "execution_count": 30,
   "metadata": {},
   "outputs": [
    {
     "data": {
      "text/plain": [
       "(0, None)"
      ]
     },
     "execution_count": 30,
     "metadata": {},
     "output_type": "execute_result"
    }
   ],
   "source": [
    "path = '../image\\BanTai\\BanTai_011.bmp'\n",
    "img = cv2.imread(path, cv2.IMREAD_COLOR)\n",
    "faces = detector.detect(img)\n",
    "faces\n",
    "#face_align = recognizer.alignCrop(img, faces[1][0])"
   ]
  },
  {
   "cell_type": "code",
   "execution_count": 31,
   "metadata": {},
   "outputs": [
    {
     "ename": "NameError",
     "evalue": "name 'load_metadata' is not defined",
     "output_type": "error",
     "traceback": [
      "\u001b[1;31m---------------------------------------------------------------------------\u001b[0m",
      "\u001b[1;31mNameError\u001b[0m                                 Traceback (most recent call last)",
      "\u001b[1;32md:\\University4th\\TaiLieu_XuLyAnh_ThiGiacMay\\FaceDetect_Facebook\\Buoc2\\test.ipynb Cell 5\u001b[0m in \u001b[0;36m<cell line: 1>\u001b[1;34m()\u001b[0m\n\u001b[1;32m----> <a href='vscode-notebook-cell:/d%3A/University4th/TaiLieu_XuLyAnh_ThiGiacMay/FaceDetect_Facebook/Buoc2/test.ipynb#W5sZmlsZQ%3D%3D?line=0'>1</a>\u001b[0m metadata \u001b[39m=\u001b[39m load_metadata(\u001b[39m'\u001b[39m\u001b[39m../image\u001b[39m\u001b[39m'\u001b[39m)\n",
      "\u001b[1;31mNameError\u001b[0m: name 'load_metadata' is not defined"
     ]
    }
   ],
   "source": [
    "metadata = load_metadata('../image')"
   ]
  }
 ],
 "metadata": {
  "kernelspec": {
   "display_name": "Python 3.7.13 ('tf')",
   "language": "python",
   "name": "python3"
  },
  "language_info": {
   "codemirror_mode": {
    "name": "ipython",
    "version": 3
   },
   "file_extension": ".py",
   "mimetype": "text/x-python",
   "name": "python",
   "nbconvert_exporter": "python",
   "pygments_lexer": "ipython3",
   "version": "3.7.13"
  },
  "orig_nbformat": 4,
  "vscode": {
   "interpreter": {
    "hash": "d5c526fb65014601f230e6208d5233a86d6d98005fd15dafc7bf2e9ee5185867"
   }
  }
 },
 "nbformat": 4,
 "nbformat_minor": 2
}
